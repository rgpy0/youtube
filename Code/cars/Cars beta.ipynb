{
 "cells": [
  {
   "cell_type": "code",
   "execution_count": 15,
   "metadata": {},
   "outputs": [],
   "source": [
    "import yfinance as yf\n",
    "import polars as pl"
   ]
  },
  {
   "cell_type": "code",
   "execution_count": 16,
   "metadata": {},
   "outputs": [],
   "source": [
    "# Define tickers for American and German auto brands and stock indices\n",
    "tickers = [\"TSLA\", \"F\", \"GM\", \"VWAGY\", \"BMWYY\", \"MBGYY\", \"^GSPC\", \"^GDAXI\"]\n",
    "\n",
    "# Map each stock to its respective stock market index\n",
    "index_mapping = {\n",
    "    \"TSLA\" : \"^GSPC\",  # American stocks -> S&P 500\n",
    "    \"F\"    : \"^GSPC\",\n",
    "    \"GM\"   : \"^GSPC\",\n",
    "    \"VWAGY\": \"^GDAXI\",  # German stocks -> DAX\n",
    "    \"BMWYY\": \"^GDAXI\",\n",
    "    \"MBGYY\": \"^GDAXI\",\n",
    "}"
   ]
  },
  {
   "cell_type": "code",
   "execution_count": 17,
   "metadata": {},
   "outputs": [
    {
     "name": "stderr",
     "output_type": "stream",
     "text": [
      "\r[                       0%                       ]"
     ]
    },
    {
     "name": "stderr",
     "output_type": "stream",
     "text": [
      "\r[                       0%                       ]"
     ]
    },
    {
     "name": "stderr",
     "output_type": "stream",
     "text": [
      "\r[******************    38%                       ]  3 of 8 completed"
     ]
    },
    {
     "name": "stderr",
     "output_type": "stream",
     "text": [
      "\r[**********************50%                       ]  4 of 8 completed"
     ]
    },
    {
     "name": "stderr",
     "output_type": "stream",
     "text": [
      "\r[**********************62%*****                  ]  5 of 8 completed\r[**********************62%*****                  ]  5 of 8 completed"
     ]
    },
    {
     "name": "stderr",
     "output_type": "stream",
     "text": [
      "\r[**********************88%*****************      ]  7 of 8 completed\r[*********************100%***********************]  8 of 8 completed"
     ]
    },
    {
     "name": "stderr",
     "output_type": "stream",
     "text": [
      "\n"
     ]
    }
   ],
   "source": [
    "data = yf.download(tickers, start=\"2005-01-01\", end = \"2024-10-31\", group_by=\"ticker\")"
   ]
  },
  {
   "cell_type": "code",
   "execution_count": 18,
   "metadata": {},
   "outputs": [],
   "source": [
    "# Extract the necessary data in long format\n",
    "long_format = []\n",
    "\n",
    "for ticker in tickers:\n",
    "    if ticker.startswith(\"^\"):                    # Skip index tickers for now\n",
    "        continue\n",
    "    ticker_data = data[ticker].reset_index()      # Extract data and reset index\n",
    "    ticker_data = ticker_data[[\"Date\", \"Close\"]]  # Keep only date and close price\n",
    "    ticker_data[\"Symbol\"] = ticker                # Add stock symbol as a column\n",
    "\n",
    "    # Add the stock market index (based on mapping)\n",
    "    ticker_data[\"Index\"] = index_mapping[ticker]\n",
    "\n",
    "    # Append to the long format list\n",
    "    long_format.append(pl.DataFrame(ticker_data))\n",
    "\n",
    "# Combine all stock data into one Polars DataFrame\n",
    "stocks_long = pl.concat(long_format)"
   ]
  },
  {
   "cell_type": "code",
   "execution_count": 19,
   "metadata": {},
   "outputs": [
    {
     "name": "stderr",
     "output_type": "stream",
     "text": [
      "\r[                       0%                       ]"
     ]
    },
    {
     "name": "stderr",
     "output_type": "stream",
     "text": [
      "\r[*********************100%***********************]  2 of 2 completed"
     ]
    },
    {
     "name": "stderr",
     "output_type": "stream",
     "text": [
      "\n"
     ]
    },
    {
     "data": {
      "text/html": [
       "<div><style>\n",
       ".dataframe > thead > tr,\n",
       ".dataframe > tbody > tr {\n",
       "  text-align: right;\n",
       "  white-space: pre-wrap;\n",
       "}\n",
       "</style>\n",
       "<small>shape: (10_238, 3)</small><table border=\"1\" class=\"dataframe\"><thead><tr><th>Date</th><th>Index_Close</th><th>Index</th></tr><tr><td>datetime[ns, UTC]</td><td>f64</td><td>str</td></tr></thead><tbody><tr><td>2005-01-03 00:00:00 UTC</td><td>1202.079956</td><td>&quot;^GSPC&quot;</td></tr><tr><td>2005-01-04 00:00:00 UTC</td><td>1188.050049</td><td>&quot;^GSPC&quot;</td></tr><tr><td>2005-01-05 00:00:00 UTC</td><td>1183.73999</td><td>&quot;^GSPC&quot;</td></tr><tr><td>2005-01-06 00:00:00 UTC</td><td>1187.890015</td><td>&quot;^GSPC&quot;</td></tr><tr><td>2005-01-07 00:00:00 UTC</td><td>1186.189941</td><td>&quot;^GSPC&quot;</td></tr><tr><td>&hellip;</td><td>&hellip;</td><td>&hellip;</td></tr><tr><td>2024-10-24 00:00:00 UTC</td><td>19443.0</td><td>&quot;^GDAXI&quot;</td></tr><tr><td>2024-10-25 00:00:00 UTC</td><td>19463.589844</td><td>&quot;^GDAXI&quot;</td></tr><tr><td>2024-10-28 00:00:00 UTC</td><td>19531.619141</td><td>&quot;^GDAXI&quot;</td></tr><tr><td>2024-10-29 00:00:00 UTC</td><td>19478.070312</td><td>&quot;^GDAXI&quot;</td></tr><tr><td>2024-10-30 00:00:00 UTC</td><td>19257.339844</td><td>&quot;^GDAXI&quot;</td></tr></tbody></table></div>"
      ],
      "text/plain": [
       "shape: (10_238, 3)\n",
       "┌─────────────────────────┬──────────────┬────────┐\n",
       "│ Date                    ┆ Index_Close  ┆ Index  │\n",
       "│ ---                     ┆ ---          ┆ ---    │\n",
       "│ datetime[ns, UTC]       ┆ f64          ┆ str    │\n",
       "╞═════════════════════════╪══════════════╪════════╡\n",
       "│ 2005-01-03 00:00:00 UTC ┆ 1202.079956  ┆ ^GSPC  │\n",
       "│ 2005-01-04 00:00:00 UTC ┆ 1188.050049  ┆ ^GSPC  │\n",
       "│ 2005-01-05 00:00:00 UTC ┆ 1183.73999   ┆ ^GSPC  │\n",
       "│ 2005-01-06 00:00:00 UTC ┆ 1187.890015  ┆ ^GSPC  │\n",
       "│ 2005-01-07 00:00:00 UTC ┆ 1186.189941  ┆ ^GSPC  │\n",
       "│ …                       ┆ …            ┆ …      │\n",
       "│ 2024-10-24 00:00:00 UTC ┆ 19443.0      ┆ ^GDAXI │\n",
       "│ 2024-10-25 00:00:00 UTC ┆ 19463.589844 ┆ ^GDAXI │\n",
       "│ 2024-10-28 00:00:00 UTC ┆ 19531.619141 ┆ ^GDAXI │\n",
       "│ 2024-10-29 00:00:00 UTC ┆ 19478.070312 ┆ ^GDAXI │\n",
       "│ 2024-10-30 00:00:00 UTC ┆ 19257.339844 ┆ ^GDAXI │\n",
       "└─────────────────────────┴──────────────┴────────┘"
      ]
     },
     "execution_count": null,
     "metadata": {},
     "output_type": "execute_result"
    }
   ],
   "source": [
    "# Download indices data separately\n",
    "indices_data = yf.download([\"^GSPC\", \"^GDAXI\"], start = \"2005-01-01\", end=\"2024-10-31\", group_by=\"ticker\")\n",
    "indices_long = []\n",
    "\n",
    "for index in [\"^GSPC\", \"^GDAXI\"]:\n",
    "    index_data = indices_data[index].reset_index()  # Extract index data and reset index\n",
    "    index_data = index_data[[\"Date\", \"Close\"]]  # Keep only date and close price\n",
    "    index_data[\"Index\"] = index  # Add index name as a column\n",
    "    indices_long.append(pl.DataFrame(index_data))\n",
    "\n",
    "# Combine all index data into one Polars DataFrame\n",
    "indices_long = pl.concat(indices_long).rename({\"Close\": \"Index_Close\"})\n",
    "indices_long"
   ]
  },
  {
   "cell_type": "code",
   "execution_count": 20,
   "metadata": {},
   "outputs": [
    {
     "data": {
      "text/html": [
       "<div><style>\n",
       ".dataframe > thead > tr,\n",
       ".dataframe > tbody > tr {\n",
       "  text-align: right;\n",
       "  white-space: pre-wrap;\n",
       "}\n",
       "</style>\n",
       "<small>shape: (6, 2)</small><table border=\"1\" class=\"dataframe\"><thead><tr><th>Symbol</th><th>Company</th></tr><tr><td>str</td><td>str</td></tr></thead><tbody><tr><td>&quot;TSLA&quot;</td><td>&quot;Tesla&quot;</td></tr><tr><td>&quot;F&quot;</td><td>&quot;Ford&quot;</td></tr><tr><td>&quot;GM&quot;</td><td>&quot;General Motors&quot;</td></tr><tr><td>&quot;VWAGY&quot;</td><td>&quot;Volkswagen&quot;</td></tr><tr><td>&quot;BMWYY&quot;</td><td>&quot;BMW&quot;</td></tr><tr><td>&quot;MBGYY&quot;</td><td>&quot;Mercedes-Benz&quot;</td></tr></tbody></table></div>"
      ],
      "text/plain": [
       "shape: (6, 2)\n",
       "┌────────┬────────────────┐\n",
       "│ Symbol ┆ Company        │\n",
       "│ ---    ┆ ---            │\n",
       "│ str    ┆ str            │\n",
       "╞════════╪════════════════╡\n",
       "│ TSLA   ┆ Tesla          │\n",
       "│ F      ┆ Ford           │\n",
       "│ GM     ┆ General Motors │\n",
       "│ VWAGY  ┆ Volkswagen     │\n",
       "│ BMWYY  ┆ BMW            │\n",
       "│ MBGYY  ┆ Mercedes-Benz  │\n",
       "└────────┴────────────────┘"
      ]
     },
     "execution_count": null,
     "metadata": {},
     "output_type": "execute_result"
    }
   ],
   "source": [
    "car_names = pl.DataFrame({\n",
    "    \"Symbol\": [\"TSLA\", \"F\", \"GM\", \"VWAGY\", \"BMWYY\", \"MBGYY\"],\n",
    "    \"Company\": [\"Tesla\", \"Ford\", \"General Motors\", \"Volkswagen\", \"BMW\", \"Mercedes-Benz\"]\n",
    "})\n",
    "car_names"
   ]
  },
  {
   "cell_type": "code",
   "execution_count": 21,
   "metadata": {},
   "outputs": [
    {
     "data": {
      "text/html": [
       "<div><style>\n",
       ".dataframe > thead > tr,\n",
       ".dataframe > tbody > tr {\n",
       "  text-align: right;\n",
       "  white-space: pre-wrap;\n",
       "}\n",
       "</style>\n",
       "<small>shape: (30_714, 8)</small><table border=\"1\" class=\"dataframe\"><thead><tr><th>Date</th><th>Close</th><th>Symbol</th><th>Index</th><th>Index_Close</th><th>Company</th><th>stock_return</th><th>market_return</th></tr><tr><td>datetime[ns, UTC]</td><td>f64</td><td>str</td><td>str</td><td>f64</td><td>str</td><td>f64</td><td>f64</td></tr></thead><tbody><tr><td>2005-01-03 00:00:00 UTC</td><td>null</td><td>&quot;TSLA&quot;</td><td>&quot;^GSPC&quot;</td><td>1202.079956</td><td>&quot;Tesla&quot;</td><td>null</td><td>null</td></tr><tr><td>2005-01-04 00:00:00 UTC</td><td>null</td><td>&quot;TSLA&quot;</td><td>&quot;^GSPC&quot;</td><td>1188.050049</td><td>&quot;Tesla&quot;</td><td>null</td><td>-0.011671</td></tr><tr><td>2005-01-05 00:00:00 UTC</td><td>null</td><td>&quot;TSLA&quot;</td><td>&quot;^GSPC&quot;</td><td>1183.73999</td><td>&quot;Tesla&quot;</td><td>null</td><td>-0.003628</td></tr><tr><td>2005-01-06 00:00:00 UTC</td><td>null</td><td>&quot;TSLA&quot;</td><td>&quot;^GSPC&quot;</td><td>1187.890015</td><td>&quot;Tesla&quot;</td><td>null</td><td>0.003506</td></tr><tr><td>2005-01-07 00:00:00 UTC</td><td>null</td><td>&quot;TSLA&quot;</td><td>&quot;^GSPC&quot;</td><td>1186.189941</td><td>&quot;Tesla&quot;</td><td>null</td><td>-0.001431</td></tr><tr><td>&hellip;</td><td>&hellip;</td><td>&hellip;</td><td>&hellip;</td><td>&hellip;</td><td>&hellip;</td><td>&hellip;</td><td>&hellip;</td></tr><tr><td>2024-10-24 00:00:00 UTC</td><td>15.73</td><td>&quot;MBGYY&quot;</td><td>&quot;^GDAXI&quot;</td><td>19443.0</td><td>&quot;Mercedes-Benz&quot;</td><td>0.020766</td><td>0.003374</td></tr><tr><td>2024-10-25 00:00:00 UTC</td><td>15.48</td><td>&quot;MBGYY&quot;</td><td>&quot;^GDAXI&quot;</td><td>19463.589844</td><td>&quot;Mercedes-Benz&quot;</td><td>-0.015893</td><td>0.001059</td></tr><tr><td>2024-10-28 00:00:00 UTC</td><td>15.48</td><td>&quot;MBGYY&quot;</td><td>&quot;^GDAXI&quot;</td><td>19531.619141</td><td>&quot;Mercedes-Benz&quot;</td><td>0.0</td><td>0.003495</td></tr><tr><td>2024-10-29 00:00:00 UTC</td><td>15.28</td><td>&quot;MBGYY&quot;</td><td>&quot;^GDAXI&quot;</td><td>19478.070312</td><td>&quot;Mercedes-Benz&quot;</td><td>-0.01292</td><td>-0.002742</td></tr><tr><td>2024-10-30 00:00:00 UTC</td><td>15.25</td><td>&quot;MBGYY&quot;</td><td>&quot;^GDAXI&quot;</td><td>19257.339844</td><td>&quot;Mercedes-Benz&quot;</td><td>-0.001963</td><td>-0.011332</td></tr></tbody></table></div>"
      ],
      "text/plain": [
       "shape: (30_714, 8)\n",
       "┌──────────┬───────┬────────┬────────┬─────────┬─────────┬─────────┬─────────┐\n",
       "│ Date     ┆ Close ┆ Symbol ┆ Index  ┆ Index_C ┆ Company ┆ stock_r ┆ market_ │\n",
       "│ ---      ┆ ---   ┆ ---    ┆ ---    ┆ lose    ┆ ---     ┆ eturn   ┆ return  │\n",
       "│ datetime ┆ f64   ┆ str    ┆ str    ┆ ---     ┆ str     ┆ ---     ┆ ---     │\n",
       "│ [ns,     ┆       ┆        ┆        ┆ f64     ┆         ┆ f64     ┆ f64     │\n",
       "│ UTC]     ┆       ┆        ┆        ┆         ┆         ┆         ┆         │\n",
       "╞══════════╪═══════╪════════╪════════╪═════════╪═════════╪═════════╪═════════╡\n",
       "│ 2005-01- ┆ null  ┆ TSLA   ┆ ^GSPC  ┆ 1202.07 ┆ Tesla   ┆ null    ┆ null    │\n",
       "│ 03       ┆       ┆        ┆        ┆ 9956    ┆         ┆         ┆         │\n",
       "│ 00:00:00 ┆       ┆        ┆        ┆         ┆         ┆         ┆         │\n",
       "│ UTC      ┆       ┆        ┆        ┆         ┆         ┆         ┆         │\n",
       "│ 2005-01- ┆ null  ┆ TSLA   ┆ ^GSPC  ┆ 1188.05 ┆ Tesla   ┆ null    ┆ -0.0116 │\n",
       "│ 04       ┆       ┆        ┆        ┆ 0049    ┆         ┆         ┆ 71      │\n",
       "│ 00:00:00 ┆       ┆        ┆        ┆         ┆         ┆         ┆         │\n",
       "│ UTC      ┆       ┆        ┆        ┆         ┆         ┆         ┆         │\n",
       "│ 2005-01- ┆ null  ┆ TSLA   ┆ ^GSPC  ┆ 1183.73 ┆ Tesla   ┆ null    ┆ -0.0036 │\n",
       "│ 05       ┆       ┆        ┆        ┆ 999     ┆         ┆         ┆ 28      │\n",
       "│ 00:00:00 ┆       ┆        ┆        ┆         ┆         ┆         ┆         │\n",
       "│ UTC      ┆       ┆        ┆        ┆         ┆         ┆         ┆         │\n",
       "│ 2005-01- ┆ null  ┆ TSLA   ┆ ^GSPC  ┆ 1187.89 ┆ Tesla   ┆ null    ┆ 0.00350 │\n",
       "│ 06       ┆       ┆        ┆        ┆ 0015    ┆         ┆         ┆ 6       │\n",
       "│ 00:00:00 ┆       ┆        ┆        ┆         ┆         ┆         ┆         │\n",
       "│ UTC      ┆       ┆        ┆        ┆         ┆         ┆         ┆         │\n",
       "│ 2005-01- ┆ null  ┆ TSLA   ┆ ^GSPC  ┆ 1186.18 ┆ Tesla   ┆ null    ┆ -0.0014 │\n",
       "│ 07       ┆       ┆        ┆        ┆ 9941    ┆         ┆         ┆ 31      │\n",
       "│ 00:00:00 ┆       ┆        ┆        ┆         ┆         ┆         ┆         │\n",
       "│ UTC      ┆       ┆        ┆        ┆         ┆         ┆         ┆         │\n",
       "│ …        ┆ …     ┆ …      ┆ …      ┆ …       ┆ …       ┆ …       ┆ …       │\n",
       "│ 2024-10- ┆ 15.73 ┆ MBGYY  ┆ ^GDAXI ┆ 19443.0 ┆ Mercede ┆ 0.02076 ┆ 0.00337 │\n",
       "│ 24       ┆       ┆        ┆        ┆         ┆ s-Benz  ┆ 6       ┆ 4       │\n",
       "│ 00:00:00 ┆       ┆        ┆        ┆         ┆         ┆         ┆         │\n",
       "│ UTC      ┆       ┆        ┆        ┆         ┆         ┆         ┆         │\n",
       "│ 2024-10- ┆ 15.48 ┆ MBGYY  ┆ ^GDAXI ┆ 19463.5 ┆ Mercede ┆ -0.0158 ┆ 0.00105 │\n",
       "│ 25       ┆       ┆        ┆        ┆ 89844   ┆ s-Benz  ┆ 93      ┆ 9       │\n",
       "│ 00:00:00 ┆       ┆        ┆        ┆         ┆         ┆         ┆         │\n",
       "│ UTC      ┆       ┆        ┆        ┆         ┆         ┆         ┆         │\n",
       "│ 2024-10- ┆ 15.48 ┆ MBGYY  ┆ ^GDAXI ┆ 19531.6 ┆ Mercede ┆ 0.0     ┆ 0.00349 │\n",
       "│ 28       ┆       ┆        ┆        ┆ 19141   ┆ s-Benz  ┆         ┆ 5       │\n",
       "│ 00:00:00 ┆       ┆        ┆        ┆         ┆         ┆         ┆         │\n",
       "│ UTC      ┆       ┆        ┆        ┆         ┆         ┆         ┆         │\n",
       "│ 2024-10- ┆ 15.28 ┆ MBGYY  ┆ ^GDAXI ┆ 19478.0 ┆ Mercede ┆ -0.0129 ┆ -0.0027 │\n",
       "│ 29       ┆       ┆        ┆        ┆ 70312   ┆ s-Benz  ┆ 2       ┆ 42      │\n",
       "│ 00:00:00 ┆       ┆        ┆        ┆         ┆         ┆         ┆         │\n",
       "│ UTC      ┆       ┆        ┆        ┆         ┆         ┆         ┆         │\n",
       "│ 2024-10- ┆ 15.25 ┆ MBGYY  ┆ ^GDAXI ┆ 19257.3 ┆ Mercede ┆ -0.0019 ┆ -0.0113 │\n",
       "│ 30       ┆       ┆        ┆        ┆ 39844   ┆ s-Benz  ┆ 63      ┆ 32      │\n",
       "│ 00:00:00 ┆       ┆        ┆        ┆         ┆         ┆         ┆         │\n",
       "│ UTC      ┆       ┆        ┆        ┆         ┆         ┆         ┆         │\n",
       "└──────────┴───────┴────────┴────────┴─────────┴─────────┴─────────┴─────────┘"
      ]
     },
     "execution_count": null,
     "metadata": {},
     "output_type": "execute_result"
    }
   ],
   "source": [
    "# Join stock data with the respective index data\n",
    "stocks_with_index = (\n",
    "    stocks_long\n",
    "    .join(indices_long, on = [\"Date\", \"Index\"], how = \"inner\")\n",
    "    .join(car_names,    on = [\"Symbol\"],        how = \"inner\")\n",
    "    .with_columns(\n",
    "        stock_return  = pl.col('Close').pct_change().over('Symbol'),\n",
    "        market_return = pl.col('Index_Close').pct_change().over('Symbol')\n",
    "    )\n",
    "    \n",
    ")\n",
    "stocks_with_index"
   ]
  },
  {
   "cell_type": "code",
   "execution_count": 22,
   "metadata": {},
   "outputs": [],
   "source": [
    "stocks_with_index.write_csv('stocks_with_index.csv')"
   ]
  },
  {
   "cell_type": "code",
   "execution_count": null,
   "metadata": {},
   "outputs": [],
   "source": []
  }
 ],
 "metadata": {
  "language_info": {
   "name": "python"
  }
 },
 "nbformat": 4,
 "nbformat_minor": 2
}
