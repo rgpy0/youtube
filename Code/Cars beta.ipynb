{
 "cells": [
  {
   "cell_type": "code",
   "execution_count": 3,
   "metadata": {},
   "outputs": [],
   "source": [
    "import yfinance as yf\n",
    "import polars as pl"
   ]
  },
  {
   "cell_type": "code",
   "execution_count": 4,
   "metadata": {},
   "outputs": [],
   "source": [
    "# Define tickers for American and German auto brands and stock indices\n",
    "tickers = [\"TSLA\", \"F\", \"GM\", \"VWAGY\", \"BMWYY\", \"MBGYY\", \"^GSPC\", \"^GDAXI\"]\n",
    "\n",
    "# Map each stock to its respective stock market index\n",
    "index_mapping = {\n",
    "    \"TSLA\" : \"^GSPC\",  # American stocks -> S&P 500\n",
    "    \"F\"    : \"^GSPC\",\n",
    "    \"GM\"   : \"^GSPC\",\n",
    "    \"VWAGY\": \"^GDAXI\",  # German stocks -> DAX\n",
    "    \"BMWYY\": \"^GDAXI\",\n",
    "    \"MBGYY\": \"^GDAXI\",\n",
    "}"
   ]
  },
  {
   "cell_type": "code",
   "execution_count": 5,
   "metadata": {},
   "outputs": [
    {
     "name": "stderr",
     "output_type": "stream",
     "text": [
      "[*********************100%***********************]  7 of 8 completed\n"
     ]
    }
   ],
   "source": [
    "data = yf.download(tickers, start=\"2005-01-01\", end = \"2024-10-31\", group_by=\"ticker\")"
   ]
  },
  {
   "cell_type": "code",
   "execution_count": 7,
   "metadata": {},
   "outputs": [],
   "source": [
    "# Extract the necessary data in long format\n",
    "long_format = []\n",
    "\n",
    "for ticker in tickers:\n",
    "    if ticker.startswith(\"^\"):                    # Skip index tickers for now\n",
    "        continue\n",
    "    ticker_data = data[ticker].reset_index()      # Extract data and reset index\n",
    "    ticker_data = ticker_data[[\"Date\", \"Close\"]]  # Keep only date and close price\n",
    "    ticker_data[\"Symbol\"] = ticker                # Add stock symbol as a column\n",
    "\n",
    "    # Add the stock market index (based on mapping)\n",
    "    ticker_data[\"Index\"] = index_mapping[ticker]\n",
    "\n",
    "    # Append to the long format list\n",
    "    long_format.append(pl.DataFrame(ticker_data))\n",
    "\n",
    "# Combine all stock data into one Polars DataFrame\n",
    "stocks_long = pl.concat(long_format)"
   ]
  },
  {
   "cell_type": "code",
   "execution_count": 8,
   "metadata": {},
   "outputs": [
    {
     "name": "stderr",
     "output_type": "stream",
     "text": [
      "[*********************100%***********************]  2 of 2 completed\n"
     ]
    },
    {
     "data": {
      "text/html": [
       "<div><style>\n",
       ".dataframe > thead > tr,\n",
       ".dataframe > tbody > tr {\n",
       "  text-align: right;\n",
       "  white-space: pre-wrap;\n",
       "}\n",
       "</style>\n",
       "<small>shape: (0, 3)</small><table border=\"1\" class=\"dataframe\"><thead><tr><th>Date</th><th>Index_Close</th><th>Index</th></tr><tr><td>datetime[ns, UTC]</td><td>f64</td><td>str</td></tr></thead><tbody></tbody></table></div>"
      ],
      "text/plain": [
       "shape: (0, 3)\n",
       "┌───────────────────┬─────────────┬───────┐\n",
       "│ Date              ┆ Index_Close ┆ Index │\n",
       "│ ---               ┆ ---         ┆ ---   │\n",
       "│ datetime[ns, UTC] ┆ f64         ┆ str   │\n",
       "╞═══════════════════╪═════════════╪═══════╡\n",
       "└───────────────────┴─────────────┴───────┘"
      ]
     },
     "execution_count": null,
     "metadata": {},
     "output_type": "execute_result"
    }
   ],
   "source": [
    "# Download indices data separately\n",
    "indices_data = yf.download([\"^GSPC\", \"^GDAXI\"], start = \"2005-01-01\", end=\"2024-10-31\", group_by=\"ticker\")\n",
    "indices_long = []\n",
    "\n",
    "for index in [\"^GSPC\", \"^GDAXI\"]:\n",
    "    index_data = indices_data[index].reset_index()  # Extract index data and reset index\n",
    "    index_data = index_data[[\"Date\", \"Close\"]]  # Keep only date and close price\n",
    "    index_data[\"Index\"] = index  # Add index name as a column\n",
    "    indices_long.append(pl.DataFrame(index_data))\n",
    "\n",
    "# Combine all index data into one Polars DataFrame\n",
    "indices_long = pl.concat(indices_long).rename({\"Close\": \"Index_Close\"})\n",
    "indices_long"
   ]
  },
  {
   "cell_type": "code",
   "execution_count": 9,
   "metadata": {},
   "outputs": [
    {
     "data": {
      "text/html": [
       "<div><style>\n",
       ".dataframe > thead > tr,\n",
       ".dataframe > tbody > tr {\n",
       "  text-align: right;\n",
       "  white-space: pre-wrap;\n",
       "}\n",
       "</style>\n",
       "<small>shape: (6, 2)</small><table border=\"1\" class=\"dataframe\"><thead><tr><th>Symbol</th><th>Company</th></tr><tr><td>str</td><td>str</td></tr></thead><tbody><tr><td>&quot;TSLA&quot;</td><td>&quot;Tesla&quot;</td></tr><tr><td>&quot;F&quot;</td><td>&quot;Ford&quot;</td></tr><tr><td>&quot;GM&quot;</td><td>&quot;General Motors&quot;</td></tr><tr><td>&quot;VWAGY&quot;</td><td>&quot;Volkswagen&quot;</td></tr><tr><td>&quot;BMWYY&quot;</td><td>&quot;BMW&quot;</td></tr><tr><td>&quot;MBGYY&quot;</td><td>&quot;Mercedes-Benz&quot;</td></tr></tbody></table></div>"
      ],
      "text/plain": [
       "shape: (6, 2)\n",
       "┌────────┬────────────────┐\n",
       "│ Symbol ┆ Company        │\n",
       "│ ---    ┆ ---            │\n",
       "│ str    ┆ str            │\n",
       "╞════════╪════════════════╡\n",
       "│ TSLA   ┆ Tesla          │\n",
       "│ F      ┆ Ford           │\n",
       "│ GM     ┆ General Motors │\n",
       "│ VWAGY  ┆ Volkswagen     │\n",
       "│ BMWYY  ┆ BMW            │\n",
       "│ MBGYY  ┆ Mercedes-Benz  │\n",
       "└────────┴────────────────┘"
      ]
     },
     "execution_count": null,
     "metadata": {},
     "output_type": "execute_result"
    }
   ],
   "source": [
    "car_names = pl.DataFrame({\n",
    "    \"Symbol\": [\"TSLA\", \"F\", \"GM\", \"VWAGY\", \"BMWYY\", \"MBGYY\"],\n",
    "    \"Company\": [\"Tesla\", \"Ford\", \"General Motors\", \"Volkswagen\", \"BMW\", \"Mercedes-Benz\"]\n",
    "})\n",
    "car_names"
   ]
  },
  {
   "cell_type": "code",
   "execution_count": 10,
   "metadata": {},
   "outputs": [
    {
     "data": {
      "text/html": [
       "<div><style>\n",
       ".dataframe > thead > tr,\n",
       ".dataframe > tbody > tr {\n",
       "  text-align: right;\n",
       "  white-space: pre-wrap;\n",
       "}\n",
       "</style>\n",
       "<small>shape: (0, 8)</small><table border=\"1\" class=\"dataframe\"><thead><tr><th>Date</th><th>Close</th><th>Symbol</th><th>Index</th><th>Index_Close</th><th>Company</th><th>stock_return</th><th>market_return</th></tr><tr><td>datetime[ns, UTC]</td><td>f64</td><td>str</td><td>str</td><td>f64</td><td>str</td><td>f64</td><td>f64</td></tr></thead><tbody></tbody></table></div>"
      ],
      "text/plain": [
       "shape: (0, 8)\n",
       "┌──────────┬───────┬────────┬───────┬──────────┬─────────┬──────────┬──────────┐\n",
       "│ Date     ┆ Close ┆ Symbol ┆ Index ┆ Index_Cl ┆ Company ┆ stock_re ┆ market_r │\n",
       "│ ---      ┆ ---   ┆ ---    ┆ ---   ┆ ose      ┆ ---     ┆ turn     ┆ eturn    │\n",
       "│ datetime ┆ f64   ┆ str    ┆ str   ┆ ---      ┆ str     ┆ ---      ┆ ---      │\n",
       "│ [ns,     ┆       ┆        ┆       ┆ f64      ┆         ┆ f64      ┆ f64      │\n",
       "│ UTC]     ┆       ┆        ┆       ┆          ┆         ┆          ┆          │\n",
       "╞══════════╪═══════╪════════╪═══════╪══════════╪═════════╪══════════╪══════════╡\n",
       "└──────────┴───────┴────────┴───────┴──────────┴─────────┴──────────┴──────────┘"
      ]
     },
     "execution_count": null,
     "metadata": {},
     "output_type": "execute_result"
    }
   ],
   "source": [
    "# Join stock data with the respective index data\n",
    "stocks_with_index = (\n",
    "    stocks_long\n",
    "    .join(indices_long, on = [\"Date\", \"Index\"], how = \"inner\")\n",
    "    .join(car_names,    on = [\"Symbol\"],        how = \"inner\")\n",
    "    .with_columns(\n",
    "        stock_return  = pl.col('Close').pct_change().over('Symbol'),\n",
    "        market_return = pl.col('Index_Close').pct_change().over('Symbol')\n",
    "    )\n",
    "    \n",
    ")\n",
    "stocks_with_index"
   ]
  },
  {
   "cell_type": "code",
   "execution_count": 8,
   "metadata": {},
   "outputs": [],
   "source": [
    "stocks_with_index.write_csv('stocks_with_index.csv')"
   ]
  },
  {
   "cell_type": "code",
   "execution_count": 11,
   "metadata": {},
   "outputs": [
    {
     "data": {
      "text/html": [
       "<div><style>\n",
       ".dataframe > thead > tr,\n",
       ".dataframe > tbody > tr {\n",
       "  text-align: right;\n",
       "  white-space: pre-wrap;\n",
       "}\n",
       "</style>\n",
       "<small>shape: (0, 8)</small><table border=\"1\" class=\"dataframe\"><thead><tr><th>Date</th><th>Close</th><th>Symbol</th><th>Index</th><th>Index_Close</th><th>Company</th><th>stock_return</th><th>market_return</th></tr><tr><td>datetime[ns, UTC]</td><td>f64</td><td>str</td><td>str</td><td>f64</td><td>str</td><td>f64</td><td>f64</td></tr></thead><tbody></tbody></table></div>"
      ],
      "text/plain": [
       "shape: (0, 8)\n",
       "┌──────────┬───────┬────────┬───────┬──────────┬─────────┬──────────┬──────────┐\n",
       "│ Date     ┆ Close ┆ Symbol ┆ Index ┆ Index_Cl ┆ Company ┆ stock_re ┆ market_r │\n",
       "│ ---      ┆ ---   ┆ ---    ┆ ---   ┆ ose      ┆ ---     ┆ turn     ┆ eturn    │\n",
       "│ datetime ┆ f64   ┆ str    ┆ str   ┆ ---      ┆ str     ┆ ---      ┆ ---      │\n",
       "│ [ns,     ┆       ┆        ┆       ┆ f64      ┆         ┆ f64      ┆ f64      │\n",
       "│ UTC]     ┆       ┆        ┆       ┆          ┆         ┆          ┆          │\n",
       "╞══════════╪═══════╪════════╪═══════╪══════════╪═════════╪══════════╪══════════╡\n",
       "└──────────┴───────┴────────┴───────┴──────────┴─────────┴──────────┴──────────┘"
      ]
     },
     "execution_count": null,
     "metadata": {},
     "output_type": "execute_result"
    }
   ],
   "source": [
    "stocks_with_index"
   ]
  },
  {
   "cell_type": "code",
   "execution_count": null,
   "metadata": {},
   "outputs": [],
   "source": []
  }
 ],
 "metadata": {
  "language_info": {
   "name": "python"
  }
 },
 "nbformat": 4,
 "nbformat_minor": 2
}
